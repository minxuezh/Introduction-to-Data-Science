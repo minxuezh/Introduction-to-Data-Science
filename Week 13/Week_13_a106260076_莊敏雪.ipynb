{
  "nbformat": 4,
  "nbformat_minor": 0,
  "metadata": {
    "colab": {
      "name": "Week 13_a106260076_莊敏雪.ipynb",
      "provenance": []
    },
    "kernelspec": {
      "name": "python3",
      "display_name": "Python 3"
    }
  },
  "cells": [
    {
      "cell_type": "code",
      "metadata": {
        "id": "R5tVqk4jPlRh",
        "colab_type": "code",
        "colab": {
          "base_uri": "https://localhost:8080/",
          "height": 34
        },
        "outputId": "2084cd23-bab0-415f-d195-ce8fd95a3b64"
      },
      "source": [
        "# 判斷有幾個母音\n",
        "n_vowels = 0\n",
        "for i in 'azcbobobegghakl':\n",
        "  if i in ['a', 'e', 'i', 'o', 'u']:\n",
        "    # print(i)\n",
        "    n_vowels += 1\n",
        "print(n_vowels)"
      ],
      "execution_count": 16,
      "outputs": [
        {
          "output_type": "stream",
          "text": [
            "5\n"
          ],
          "name": "stdout"
        }
      ]
    },
    {
      "cell_type": "code",
      "metadata": {
        "id": "79-CBBP9Taun",
        "colab_type": "code",
        "colab": {
          "base_uri": "https://localhost:8080/",
          "height": 34
        },
        "outputId": "6b646eba-0615-45a8-d5f0-6de4ae2eee7d"
      },
      "source": [
        "# 判斷bob出現的次數\n",
        "test_str = 'azcbobobegghakl'\n",
        "n_char = len(test_str)\n",
        "n_bobs = 0\n",
        "for i in range(n_char - 2):\n",
        "  #print(test_str[i:i+3])\n",
        "  if test_str[i:i+3] == 'bob':\n",
        "    n_bobs += 1\n",
        "print(n_bobs)"
      ],
      "execution_count": 17,
      "outputs": [
        {
          "output_type": "stream",
          "text": [
            "2\n"
          ],
          "name": "stdout"
        }
      ]
    },
    {
      "cell_type": "code",
      "metadata": {
        "id": "BmUfBN1kT-d_",
        "colab_type": "code",
        "colab": {
          "base_uri": "https://localhost:8080/",
          "height": 34
        },
        "outputId": "a1ac8f8a-f3da-4611-ced0-e7d32982ea43"
      },
      "source": [
        "#  計算 range(1, 101) 的樣本標準差\n",
        "x = list(range(1,101))\n",
        "N = len(x)\n",
        "x_bar = sum(x) / N \n",
        "sse = 0\n",
        "for xi in x:\n",
        "  #error = xi - x_bar\n",
        "  squared_error = (xi -x_bar)**2\n",
        "  sse += squared_error #sse = + squared_error\n",
        "sample_mse = sse / (N-1)\n",
        "sample_stdev = sample_mse**(0.5)\n",
        "print(sample_stdev)"
      ],
      "execution_count": 18,
      "outputs": [
        {
          "output_type": "stream",
          "text": [
            "29.011491975882016\n"
          ],
          "name": "stdout"
        }
      ]
    },
    {
      "cell_type": "code",
      "metadata": {
        "id": "EkhU4IfzT-mK",
        "colab_type": "code",
        "colab": {
          "base_uri": "https://localhost:8080/",
          "height": 34
        },
        "outputId": "b75d133b-112f-4599-9fe9-8a77a7118487"
      },
      "source": [
        "from statistics import stdev\n",
        "\n",
        "stdev(range(1, 101)) #[1,2,3,...,100]"
      ],
      "execution_count": 4,
      "outputs": [
        {
          "output_type": "execute_result",
          "data": {
            "text/plain": [
              "29.011491975882016"
            ]
          },
          "metadata": {
            "tags": []
          },
          "execution_count": 4
        }
      ]
    },
    {
      "cell_type": "code",
      "metadata": {
        "id": "f8PCMNuGT-sN",
        "colab_type": "code",
        "colab": {
          "base_uri": "https://localhost:8080/",
          "height": 52
        },
        "outputId": "2e5b0201-37aa-4fd9-997c-875e4023834e"
      },
      "source": [
        "# 自訂 abs() 函數 \n",
        "def absolute(x):\n",
        "    \"\"\"\n",
        "    Returns the absolute value of x.\n",
        "    \"\"\"\n",
        "    if x < 0:\n",
        "        abs_x = -x\n",
        "        print(\"{}的絕對值是{}\".format(x, abs_x))\n",
        "        return abs_x\n",
        "    else:\n",
        "        print(\"{}的絕對值是{}\".format(x, x))\n",
        "        return x\n",
        "positive_56 = absolute(-5566)\n",
        "print(positive_56)"
      ],
      "execution_count": 19,
      "outputs": [
        {
          "output_type": "stream",
          "text": [
            "-5566的絕對值是5566\n",
            "5566\n"
          ],
          "name": "stdout"
        }
      ]
    },
    {
      "cell_type": "code",
      "metadata": {
        "id": "chReNpyLT-km",
        "colab_type": "code",
        "colab": {
          "base_uri": "https://localhost:8080/",
          "height": 34
        },
        "outputId": "1bbbfc4c-733b-45f4-b111-904ae7d5dd86"
      },
      "source": [
        "# 寫作一個函數 get_fahrenheit() 將攝氏氣溫轉換為華氏氣溫 \n",
        "def get_fahrenheit(x):\n",
        "    \"\"\"\n",
        "    Transform a Celsius degree into  Farenheit scale\n",
        "    \"\"\"\n",
        "    fah = x * 9/5 + 32\n",
        "    return fah\n",
        "print(get_fahrenheit(32))"
      ],
      "execution_count": 21,
      "outputs": [
        {
          "output_type": "stream",
          "text": [
            "89.6\n"
          ],
          "name": "stdout"
        }
      ]
    },
    {
      "cell_type": "code",
      "metadata": {
        "id": "_m_jO_BiVMvJ",
        "colab_type": "code",
        "colab": {
          "base_uri": "https://localhost:8080/",
          "height": 34
        },
        "outputId": "ac89eb1a-1055-4ff6-ae53-07136f59ba0c"
      },
      "source": [
        "# 寫作一個函數 get_bmi() 計算 BMI 身體質量指數 \n",
        "def get_bmi(height, weight):\n",
        "    \"\"\"\n",
        "    Calculate BMI based on height and weight\n",
        "    \"\"\"\n",
        "    height = height / 100\n",
        "    bmi = weight / height**2\n",
        "    return bmi\n",
        "print(get_bmi(198, 129))"
      ],
      "execution_count": 22,
      "outputs": [
        {
          "output_type": "stream",
          "text": [
            "32.90480563207836\n"
          ],
          "name": "stdout"
        }
      ]
    },
    {
      "cell_type": "code",
      "metadata": {
        "id": "pNbHKW7uVSSl",
        "colab_type": "code",
        "colab": {
          "base_uri": "https://localhost:8080/",
          "height": 34
        },
        "outputId": "912fce88-57ae-4424-ffb9-2d43798fc709"
      },
      "source": [
        "# 寫作一個函數 is_prime() 判斷輸入是否為質數\n",
        "def is_prime(x):\n",
        "    \"\"\"\n",
        "    Returns True if x is a prime, or returns False\n",
        "    \"\"\"\n",
        "    divisors = []\n",
        "    for i in range(1, x+1):\n",
        "        if x % i == 0:\n",
        "            divisors.append(i)\n",
        "    n_divisors = len(divisors)\n",
        "    return n_divisors == 2\n",
        "print(is_prime(1))"
      ],
      "execution_count": 23,
      "outputs": [
        {
          "output_type": "stream",
          "text": [
            "False\n"
          ],
          "name": "stdout"
        }
      ]
    }
  ]
}