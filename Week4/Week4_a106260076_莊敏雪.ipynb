{
  "nbformat": 4,
  "nbformat_minor": 0,
  "metadata": {
    "colab": {
      "name": "Week4-a106260076-莊敏雪.ipynb",
      "provenance": [],
      "collapsed_sections": []
    },
    "kernelspec": {
      "name": "python3",
      "display_name": "Python 3"
    }
  },
  "cells": [
    {
      "cell_type": "code",
      "metadata": {
        "id": "Vllt9CHl7HSq",
        "colab_type": "code",
        "colab": {}
      },
      "source": [
        "# 將目前的攝氏氣溫轉換為華氏氣溫 Fahrenheit = Celsius × 9/5 + 32"
      ],
      "execution_count": 0,
      "outputs": []
    },
    {
      "cell_type": "code",
      "metadata": {
        "id": "9vx55JRpEXyX",
        "colab_type": "code",
        "colab": {
          "base_uri": "https://localhost:8080/",
          "height": 34
        },
        "outputId": "bdbcf651-06a9-40c7-9037-9aaec6d1e3fe"
      },
      "source": [
        "current_tempc = 28\n",
        "current_tempf = current_tempc*9/5+32\n",
        "print(current_tempf)"
      ],
      "execution_count": 2,
      "outputs": [
        {
          "output_type": "stream",
          "text": [
            "82.4\n"
          ],
          "name": "stdout"
        }
      ]
    },
    {
      "cell_type": "code",
      "metadata": {
        "id": "ErOK5V0WEj5q",
        "colab_type": "code",
        "colab": {}
      },
      "source": [
        "# 將目前的華氏氣溫轉換為攝氏氣溫 Celsius = (Fahrenheit − 32) × 5/9"
      ],
      "execution_count": 0,
      "outputs": []
    },
    {
      "cell_type": "code",
      "metadata": {
        "id": "Y92a3lUHErUr",
        "colab_type": "code",
        "colab": {
          "base_uri": "https://localhost:8080/",
          "height": 34
        },
        "outputId": "0ee7f2c6-3b16-4fbe-aa90-512fc23cb972"
      },
      "source": [
        "current_tempc = (current_tempf-32)*5/9\n",
        "print(current_tempc)"
      ],
      "execution_count": 4,
      "outputs": [
        {
          "output_type": "stream",
          "text": [
            "28.000000000000004\n"
          ],
          "name": "stdout"
        }
      ]
    },
    {
      "cell_type": "code",
      "metadata": {
        "id": "dlq67l9sNgnc",
        "colab_type": "code",
        "colab": {}
      },
      "source": [
        "# 計算俠客歐尼爾巔峰時期的 BMI 身體質量指數\n",
        "# NBA 史上最偉大的中鋒之一「柴油引擎」俠客歐尼爾（Shaquille O’Neal）巔峰時期的身高為 216 公分、體重為 147 公斤。\n",
        "# 身高以公尺為單位、體重以公斤為單位\n",
        "# BMI =weight/height**2"
      ],
      "execution_count": 0,
      "outputs": []
    },
    {
      "cell_type": "code",
      "metadata": {
        "id": "r1Fd8Ej_NocJ",
        "colab_type": "code",
        "colab": {
          "base_uri": "https://localhost:8080/",
          "height": 34
        },
        "outputId": "3afb15d3-ffb0-4a43-9ad9-5cb9803f1b22"
      },
      "source": [
        "shaq_height = 216\n",
        "shaq_weight = 147\n",
        "shaq_BMI = shaq_weight/(shaq_height/100)**2\n",
        "print(shaq_BMI) "
      ],
      "execution_count": 9,
      "outputs": [
        {
          "output_type": "stream",
          "text": [
            "31.507201646090532\n"
          ],
          "name": "stdout"
        }
      ]
    },
    {
      "cell_type": "code",
      "metadata": {
        "id": "BmkuQYagEyNC",
        "colab_type": "code",
        "colab": {}
      },
      "source": [
        "# What did Ross say? Let's put aside the fact that you \"accidentally\" pick up my grandmother's ring."
      ],
      "execution_count": 0,
      "outputs": []
    },
    {
      "cell_type": "code",
      "metadata": {
        "id": "lkd9Qx7XFbi-",
        "colab_type": "code",
        "colab": {
          "base_uri": "https://localhost:8080/",
          "height": 34
        },
        "outputId": "7323080e-dbea-4e67-c54a-88685e6c9ec1"
      },
      "source": [
        "ross_said = \"Let's put aside the fact that you \\\"accidentally\\\" pick up my grandmother's ring.\"\n",
        "print(ross_said)"
      ],
      "execution_count": 5,
      "outputs": [
        {
          "output_type": "stream",
          "text": [
            "Let's put aside the fact that you \"accidentally\" pick up my grandmother's ring.\n"
          ],
          "name": "stdout"
        }
      ]
    },
    {
      "cell_type": "code",
      "metadata": {
        "id": "xvv5b-xbFq6m",
        "colab_type": "code",
        "colab": {}
      },
      "source": [
        "# 讓使用者輸入城市名稱與天氣，並印出「我在OOO，天氣OOO」"
      ],
      "execution_count": 0,
      "outputs": []
    },
    {
      "cell_type": "code",
      "metadata": {
        "id": "yiT8O7PuFt2B",
        "colab_type": "code",
        "colab": {
          "base_uri": "https://localhost:8080/",
          "height": 70
        },
        "outputId": "e03a5b2a-5011-4291-c1b9-dbd8d6a5d44f"
      },
      "source": [
        "city = input(\"請輸入你在的城市:\")\n",
        "weather = input(\"請輸入目前的天氣:\")\n",
        "print(\"我在{}，天氣{}\".format(city,weather))"
      ],
      "execution_count": 12,
      "outputs": [
        {
          "output_type": "stream",
          "text": [
            "請輸入你在的城市:台北\n",
            "請輸入目前的天氣:晴\n",
            "我在台北，天氣晴\n"
          ],
          "name": "stdout"
        }
      ]
    },
    {
      "cell_type": "code",
      "metadata": {
        "id": "xAF0B2oAF1Gy",
        "colab_type": "code",
        "colab": {}
      },
      "source": [
        "# 球員 BMI 與過重判斷\n",
        "# 以 input() 函數請使用者輸入球員姓名、身高與體重 \n",
        "# 計算球員的 BMI 並且印出 \n",
        "# 超過 30 代表過重，請印出判斷結果\n",
        "# 球員姓名：俠客歐尼爾、球員身高（cm）：216、球員體重（kg）：147"
      ],
      "execution_count": 0,
      "outputs": []
    },
    {
      "cell_type": "code",
      "metadata": {
        "id": "I2jOEm0sdNWB",
        "colab_type": "code",
        "colab": {
          "base_uri": "https://localhost:8080/",
          "height": 105
        },
        "outputId": "467b356d-af02-4f78-f8a5-0fbb3aecd4f5"
      },
      "source": [
        "player_name = input(\"請輸入球員姓名:\")\n",
        "height_cm = input(\"請輸入球員身高:\")\n",
        "weight = input(\"請輸入球員體重:\")\n",
        "height_cm = float(height_cm) \n",
        "weight = float(weight) \n",
        "player_bmi = weight/(height_cm/100)**2\n",
        "print(\"{}的身體質量指數為：{:.2f}\".format(player_name, player_bmi))\n",
        "print(\"{}是否過重：{}\".format(player_name, player_bmi > 30))"
      ],
      "execution_count": 15,
      "outputs": [
        {
          "output_type": "stream",
          "text": [
            "請輸入球員姓名:俠客歐尼爾\n",
            "請輸入球員身高:216\n",
            "請輸入球員體重:147\n",
            "俠客歐尼爾的身體質量指數為：31.51\n",
            "俠客歐尼爾是否過重：True\n"
          ],
          "name": "stdout"
        }
      ]
    }
  ]
}