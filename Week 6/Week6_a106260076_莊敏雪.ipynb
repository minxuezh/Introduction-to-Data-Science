{
  "nbformat": 4,
  "nbformat_minor": 0,
  "metadata": {
    "colab": {
      "name": "20200410.ipynb",
      "provenance": []
    },
    "kernelspec": {
      "name": "python3",
      "display_name": "Python 3"
    }
  },
  "cells": [
    {
      "cell_type": "code",
      "metadata": {
        "id": "bRcs0wKUqZ-L",
        "colab_type": "code",
        "outputId": "360e43cf-face-4ca4-89fd-eca9d9755706",
        "colab": {
          "base_uri": "https://localhost:8080/",
          "height": 51
        }
      },
      "source": [
        "print(type(True))\n",
        "print(type(False))"
      ],
      "execution_count": 0,
      "outputs": [
        {
          "output_type": "stream",
          "text": [
            "<class 'bool'>\n",
            "<class 'bool'>\n"
          ],
          "name": "stdout"
        }
      ]
    },
    {
      "cell_type": "code",
      "metadata": {
        "id": "eSZ2keQ8v2BK",
        "colab_type": "code",
        "outputId": "53217ce1-2975-4cfa-ffbe-be662c0958d8",
        "colab": {
          "base_uri": "https://localhost:8080/",
          "height": 51
        }
      },
      "source": [
        "print(type(7.7 > 8))\n",
        "print(type(7.7 < 8))"
      ],
      "execution_count": 0,
      "outputs": [
        {
          "output_type": "stream",
          "text": [
            "<class 'bool'>\n",
            "<class 'bool'>\n"
          ],
          "name": "stdout"
        }
      ]
    },
    {
      "cell_type": "code",
      "metadata": {
        "id": "s1MnNRmuvpKj",
        "colab_type": "code",
        "outputId": "268c8284-fcc6-4414-d759-1a6654402299",
        "colab": {
          "base_uri": "https://localhost:8080/",
          "height": 51
        }
      },
      "source": [
        "print(7.7 == 8)\n",
        "print(7.7 != 8)"
      ],
      "execution_count": 0,
      "outputs": [
        {
          "output_type": "stream",
          "text": [
            "False\n",
            "True\n"
          ],
          "name": "stdout"
        }
      ]
    },
    {
      "cell_type": "code",
      "metadata": {
        "id": "1mmkkrLqwDQL",
        "colab_type": "code",
        "outputId": "62c21815-8176-422d-8dc9-0c2a47952231",
        "colab": {
          "base_uri": "https://localhost:8080/",
          "height": 34
        }
      },
      "source": [
        "id_last_digit = 5\n",
        "id_last_digit % 2 == 1 # 奇數"
      ],
      "execution_count": 0,
      "outputs": [
        {
          "output_type": "execute_result",
          "data": {
            "text/plain": [
              "True"
            ]
          },
          "metadata": {
            "tags": []
          },
          "execution_count": 7
        }
      ]
    },
    {
      "cell_type": "code",
      "metadata": {
        "id": "LRYW1vaCxBqy",
        "colab_type": "code",
        "outputId": "c48b0a40-c1b0-4460-d333-27a5eafc83af",
        "colab": {
          "base_uri": "https://localhost:8080/",
          "height": 34
        }
      },
      "source": [
        "id_last_digit = 5\n",
        "id_last_digit % 2 == 0 # 偶數"
      ],
      "execution_count": 0,
      "outputs": [
        {
          "output_type": "execute_result",
          "data": {
            "text/plain": [
              "False"
            ]
          },
          "metadata": {
            "tags": []
          },
          "execution_count": 8
        }
      ]
    },
    {
      "cell_type": "code",
      "metadata": {
        "id": "TIPjD0SKxSxq",
        "colab_type": "code",
        "outputId": "b62a352b-05fc-4b8a-dfff-7570c1a1a235",
        "colab": {
          "base_uri": "https://localhost:8080/",
          "height": 51
        }
      },
      "source": [
        "# 反轉型態\n",
        "print(not True)\n",
        "print(not False)"
      ],
      "execution_count": 0,
      "outputs": [
        {
          "output_type": "stream",
          "text": [
            "False\n",
            "True\n"
          ],
          "name": "stdout"
        }
      ]
    },
    {
      "cell_type": "code",
      "metadata": {
        "id": "Kg99s7gmxxPG",
        "colab_type": "code",
        "outputId": "22890781-f6ef-440d-db5b-a0da7389503a",
        "colab": {
          "base_uri": "https://localhost:8080/",
          "height": 51
        }
      },
      "source": [
        "print(not 7.7 != 8)\n",
        "print(not 7.7 == 8)"
      ],
      "execution_count": 0,
      "outputs": [
        {
          "output_type": "stream",
          "text": [
            "False\n",
            "True\n"
          ],
          "name": "stdout"
        }
      ]
    },
    {
      "cell_type": "code",
      "metadata": {
        "id": "PAjminMeyClC",
        "colab_type": "code",
        "outputId": "3b64b27e-9b7a-4f30-d7c4-040230a133fe",
        "colab": {
          "base_uri": "https://localhost:8080/",
          "height": 68
        }
      },
      "source": [
        "print(5566.00 == 5566)\n",
        "print(type(5566.00))\n",
        "print(type(5566))"
      ],
      "execution_count": 0,
      "outputs": [
        {
          "output_type": "stream",
          "text": [
            "True\n",
            "<class 'float'>\n",
            "<class 'int'>\n"
          ],
          "name": "stdout"
        }
      ]
    },
    {
      "cell_type": "code",
      "metadata": {
        "id": "Xr3cP08kygHa",
        "colab_type": "code",
        "outputId": "3260e644-2b93-41a8-c09b-79c83e3a801f",
        "colab": {
          "base_uri": "https://localhost:8080/",
          "height": 34
        }
      },
      "source": [
        "# 是否為相同的值與類型\n",
        "5566 is 5566.0"
      ],
      "execution_count": 0,
      "outputs": [
        {
          "output_type": "execute_result",
          "data": {
            "text/plain": [
              "False"
            ]
          },
          "metadata": {
            "tags": []
          },
          "execution_count": 17
        }
      ]
    },
    {
      "cell_type": "code",
      "metadata": {
        "id": "rQTCt_UpymDr",
        "colab_type": "code",
        "outputId": "c9bf2c28-b426-4307-95c2-3d511d4e666f",
        "colab": {
          "base_uri": "https://localhost:8080/",
          "height": 34
        }
      },
      "source": [
        "5566 is not 5566.0"
      ],
      "execution_count": 0,
      "outputs": [
        {
          "output_type": "execute_result",
          "data": {
            "text/plain": [
              "True"
            ]
          },
          "metadata": {
            "tags": []
          },
          "execution_count": 16
        }
      ]
    },
    {
      "cell_type": "code",
      "metadata": {
        "id": "gb2IJGMZy_TU",
        "colab_type": "code",
        "outputId": "6f46bb5a-3317-408e-9c62-070fa0634136",
        "colab": {
          "base_uri": "https://localhost:8080/",
          "height": 51
        }
      },
      "source": [
        "print(156 < 120) # False\n",
        "print(7.7 > 7) # True"
      ],
      "execution_count": 0,
      "outputs": [
        {
          "output_type": "stream",
          "text": [
            "False\n",
            "True\n"
          ],
          "name": "stdout"
        }
      ]
    },
    {
      "cell_type": "code",
      "metadata": {
        "id": "UAfasze90LxE",
        "colab_type": "code",
        "outputId": "84dcec4e-83af-42ae-beef-e2692bdc6b34",
        "colab": {
          "base_uri": "https://localhost:8080/",
          "height": 34
        }
      },
      "source": [
        "# and 交集 嚴格 需每句話都為真\n",
        "print(156 < 120 and 7.7 > 7)"
      ],
      "execution_count": 0,
      "outputs": [
        {
          "output_type": "stream",
          "text": [
            "False\n"
          ],
          "name": "stdout"
        }
      ]
    },
    {
      "cell_type": "code",
      "metadata": {
        "id": "QtJxGSUD0kcU",
        "colab_type": "code",
        "outputId": "69fb5c13-63a1-4996-eff4-733186356aec",
        "colab": {
          "base_uri": "https://localhost:8080/",
          "height": 34
        }
      },
      "source": [
        "# or 聯集 寬鬆 只要有一句為真就可\n",
        "print(156 < 120 or 7.7 > 7)"
      ],
      "execution_count": 0,
      "outputs": [
        {
          "output_type": "stream",
          "text": [
            "True\n"
          ],
          "name": "stdout"
        }
      ]
    },
    {
      "cell_type": "code",
      "metadata": {
        "id": "Tn_1t1nE3Css",
        "colab_type": "code",
        "outputId": "75d89167-f86c-4a96-f158-c47b0e8c7796",
        "colab": {
          "base_uri": "https://localhost:8080/",
          "height": 51
        }
      },
      "source": [
        "city = input(\"請輸入您所在的城市:\")\n",
        "weather = input(\"請輸入現在的天氣:)"
      ],
      "execution_count": 0,
      "outputs": [
        {
          "output_type": "stream",
          "text": [
            "請輸入您所在的城市:台北\n",
            "請輸入現在的天氣:晴\n"
          ],
          "name": "stdout"
        }
      ]
    },
    {
      "cell_type": "code",
      "metadata": {
        "id": "xKVF7UXH5l-s",
        "colab_type": "code",
        "outputId": "97b0a955-dad1-4f87-b44b-b14084fa84a0",
        "colab": {
          "base_uri": "https://localhost:8080/",
          "height": 284
        }
      },
      "source": [
        "city = input(\"請輸入您所在的城市:\")\n",
        "weather = input(\"請輸入現在的天氣:\")\n",
        "tempc = input(\"請輸入現在的攝氏氣溫:\")\n",
        "tempf = tempc*9/5+32\n",
        "\n",
        "print(\"我在{}，天氣{}，攝氏 {} 度，華氏 {} 度\".format(city, weather, tempc, tempf))"
      ],
      "execution_count": 0,
      "outputs": [
        {
          "output_type": "stream",
          "text": [
            "請輸入您所在的城市:台北\n",
            "請輸入現在的天氣:晴\n",
            "請輸入現在的攝氏氣溫:26\n"
          ],
          "name": "stdout"
        },
        {
          "output_type": "error",
          "ename": "TypeError",
          "evalue": "ignored",
          "traceback": [
            "\u001b[0;31m---------------------------------------------------------------------------\u001b[0m",
            "\u001b[0;31mTypeError\u001b[0m                                 Traceback (most recent call last)",
            "\u001b[0;32m<ipython-input-35-f07375e6c73e>\u001b[0m in \u001b[0;36m<module>\u001b[0;34m()\u001b[0m\n\u001b[1;32m      2\u001b[0m \u001b[0mweather\u001b[0m \u001b[0;34m=\u001b[0m \u001b[0minput\u001b[0m\u001b[0;34m(\u001b[0m\u001b[0;34m\"請輸入現在的天氣:\"\u001b[0m\u001b[0;34m)\u001b[0m\u001b[0;34m\u001b[0m\u001b[0;34m\u001b[0m\u001b[0m\n\u001b[1;32m      3\u001b[0m \u001b[0mtempc\u001b[0m \u001b[0;34m=\u001b[0m \u001b[0minput\u001b[0m\u001b[0;34m(\u001b[0m\u001b[0;34m\"請輸入現在的攝氏氣溫:\"\u001b[0m\u001b[0;34m)\u001b[0m\u001b[0;34m\u001b[0m\u001b[0;34m\u001b[0m\u001b[0m\n\u001b[0;32m----> 4\u001b[0;31m \u001b[0mtempf\u001b[0m \u001b[0;34m=\u001b[0m \u001b[0mtempc\u001b[0m\u001b[0;34m*\u001b[0m\u001b[0;36m9\u001b[0m\u001b[0;34m/\u001b[0m\u001b[0;36m5\u001b[0m\u001b[0;34m+\u001b[0m\u001b[0;36m32\u001b[0m\u001b[0;34m\u001b[0m\u001b[0;34m\u001b[0m\u001b[0m\n\u001b[0m\u001b[1;32m      5\u001b[0m \u001b[0;34m\u001b[0m\u001b[0m\n\u001b[1;32m      6\u001b[0m \u001b[0mprint\u001b[0m\u001b[0;34m(\u001b[0m\u001b[0;34m\"我在{}，天氣{}，攝氏 {} 度，華氏 {} 度\"\u001b[0m\u001b[0;34m.\u001b[0m\u001b[0mformat\u001b[0m\u001b[0;34m(\u001b[0m\u001b[0mcity\u001b[0m\u001b[0;34m,\u001b[0m \u001b[0mweather\u001b[0m\u001b[0;34m,\u001b[0m \u001b[0mtempc\u001b[0m\u001b[0;34m,\u001b[0m \u001b[0mtempf\u001b[0m\u001b[0;34m)\u001b[0m\u001b[0;34m)\u001b[0m\u001b[0;34m\u001b[0m\u001b[0;34m\u001b[0m\u001b[0m\n",
            "\u001b[0;31mTypeError\u001b[0m: unsupported operand type(s) for /: 'str' and 'int'"
          ]
        }
      ]
    },
    {
      "cell_type": "code",
      "metadata": {
        "id": "WMm0ArCR88a_",
        "colab_type": "code",
        "colab": {}
      },
      "source": [
        "# 程式出錯\n",
        "# 1看箭頭可知錯在哪行2看最下面訊息(出錯原因)\n",
        "# 網域 site:某網站\n",
        "# 查問題答案 stackoverflow\n",
        "# input 是文字類型\n",
        "# 文字不能做除法\n",
        "\n",
        "# 想要程式有1234/縮排:Tools-settings-editor-Show line numbers/Show indentation guides"
      ],
      "execution_count": 0,
      "outputs": []
    },
    {
      "cell_type": "code",
      "metadata": {
        "id": "R8jjEWAG_twV",
        "colab_type": "code",
        "outputId": "726fe48e-6a57-4fe1-9888-e873778c7cfd",
        "colab": {
          "base_uri": "https://localhost:8080/",
          "height": 51
        }
      },
      "source": [
        "print(tempc)\n",
        "print(type(tempc))"
      ],
      "execution_count": 0,
      "outputs": [
        {
          "output_type": "stream",
          "text": [
            "26\n",
            "<class 'str'>\n"
          ],
          "name": "stdout"
        }
      ]
    },
    {
      "cell_type": "code",
      "metadata": {
        "id": "EHYxm7EzCHUG",
        "colab_type": "code",
        "outputId": "ca95d988-cf63-44d0-d54f-ef4b11d4cb8c",
        "colab": {
          "base_uri": "https://localhost:8080/",
          "height": 34
        }
      },
      "source": [
        "tempc + \"32\""
      ],
      "execution_count": 0,
      "outputs": [
        {
          "output_type": "execute_result",
          "data": {
            "text/plain": [
              "'2632'"
            ]
          },
          "metadata": {
            "tags": []
          },
          "execution_count": 39
        }
      ]
    },
    {
      "cell_type": "code",
      "metadata": {
        "id": "NW4ehUxPET73",
        "colab_type": "code",
        "outputId": "e84529a7-c557-45df-8b15-dc014be1633f",
        "colab": {
          "base_uri": "https://localhost:8080/",
          "height": 34
        }
      },
      "source": [
        "tempc * 5"
      ],
      "execution_count": 0,
      "outputs": [
        {
          "output_type": "execute_result",
          "data": {
            "text/plain": [
              "'2626262626'"
            ]
          },
          "metadata": {
            "tags": []
          },
          "execution_count": 40
        }
      ]
    },
    {
      "cell_type": "code",
      "metadata": {
        "id": "ZXs3DDJKAJSr",
        "colab_type": "code",
        "outputId": "cf84cd46-8928-4f69-cd9d-87365ef3a5b7",
        "colab": {
          "base_uri": "https://localhost:8080/",
          "height": 51
        }
      },
      "source": [
        "print(int(tempc))\n",
        "print(float(tempc))"
      ],
      "execution_count": 0,
      "outputs": [
        {
          "output_type": "stream",
          "text": [
            "26\n",
            "26.0\n"
          ],
          "name": "stdout"
        }
      ]
    },
    {
      "cell_type": "code",
      "metadata": {
        "id": "44AzUeHhApHs",
        "colab_type": "code",
        "outputId": "a6bd2f23-3692-4df2-d16f-d044c7618228",
        "colab": {
          "base_uri": "https://localhost:8080/",
          "height": 51
        }
      },
      "source": [
        "print(type(int(tempc)))\n",
        "print(type(float(tempc)))"
      ],
      "execution_count": 0,
      "outputs": [
        {
          "output_type": "stream",
          "text": [
            "<class 'int'>\n",
            "<class 'float'>\n"
          ],
          "name": "stdout"
        }
      ]
    },
    {
      "cell_type": "code",
      "metadata": {
        "id": "Zpb2oBHoAo79",
        "colab_type": "code",
        "outputId": "ef178047-f54a-41a0-d027-16283ea35f7b",
        "colab": {
          "base_uri": "https://localhost:8080/",
          "height": 85
        }
      },
      "source": [
        "city = input(\"請輸入您所在的城市:\")\n",
        "weather = input(\"請輸入現在的天氣:\")\n",
        "tempc = input(\"請輸入現在的攝氏氣溫:\")\n",
        "tempc = int(tempc)\n",
        "tempf = tempc*9/5+32\n",
        "\n",
        "print(\"我在{}，天氣{}，攝氏 {} 度，華氏 {} 度\".format(city, weather, tempc, tempf))"
      ],
      "execution_count": 0,
      "outputs": [
        {
          "output_type": "stream",
          "text": [
            "請輸入您所在的城市:台北\n",
            "請輸入現在的天氣:晴\n",
            "請輸入現在的攝氏氣溫:26\n",
            "我在台北，天氣晴，攝氏 26 度，華氏 78.8 度\n"
          ],
          "name": "stdout"
        }
      ]
    },
    {
      "cell_type": "code",
      "metadata": {
        "id": "ash-vDR_Eo9N",
        "colab_type": "code",
        "outputId": "62c90c33-0ea7-43ed-976e-0d02f2e61804",
        "colab": {
          "base_uri": "https://localhost:8080/",
          "height": 85
        }
      },
      "source": [
        "# 判斷身分證字號的尾數是否為奇數\n",
        "id_last_digit = input(\"請輸入您身分證字號的尾數:\")\n",
        "id_last_digit = int(id_last_digit)\n",
        "print(id_last_digit)\n",
        "print(type(id_last_digit))\n",
        "modulo = id_last_digit % 2 \n",
        "ans= modulo == 1\n",
        "print(ans)"
      ],
      "execution_count": 0,
      "outputs": [
        {
          "output_type": "stream",
          "text": [
            "請輸入您身分證字號的尾數:6\n",
            "6\n",
            "<class 'int'>\n",
            "False\n"
          ],
          "name": "stdout"
        }
      ]
    },
    {
      "cell_type": "code",
      "metadata": {
        "id": "ALuEMToOIWtv",
        "colab_type": "code",
        "outputId": "807f023b-a96f-4556-bb0d-721b0025f64f",
        "colab": {
          "base_uri": "https://localhost:8080/",
          "height": 85
        }
      },
      "source": [
        "print(bool(0))\n",
        "print(bool(1))\n",
        "print(bool(5566))\n",
        "print(bool(55.66))"
      ],
      "execution_count": 0,
      "outputs": [
        {
          "output_type": "stream",
          "text": [
            "False\n",
            "True\n",
            "True\n",
            "True\n"
          ],
          "name": "stdout"
        }
      ]
    },
    {
      "cell_type": "code",
      "metadata": {
        "id": "QOYQRsfHIWsu",
        "colab_type": "code",
        "outputId": "2c1b9b82-7cac-4877-b2e7-bfe0524a0855",
        "colab": {
          "base_uri": "https://localhost:8080/",
          "height": 51
        }
      },
      "source": [
        "# 文字在布林裡永遠為true\n",
        "print(bool(\"12\"))\n",
        "print(bool(\"jp6y4\"))"
      ],
      "execution_count": 0,
      "outputs": [
        {
          "output_type": "stream",
          "text": [
            "True\n",
            "True\n"
          ],
          "name": "stdout"
        }
      ]
    },
    {
      "cell_type": "code",
      "metadata": {
        "id": "oXyrsSY_KC6a",
        "colab_type": "code",
        "outputId": "bd095d11-8fc0-4eb7-b17a-454b14ae3b0c",
        "colab": {
          "base_uri": "https://localhost:8080/",
          "height": 153
        }
      },
      "source": [
        "# bin 二進位\n",
        "help(bin)"
      ],
      "execution_count": 0,
      "outputs": [
        {
          "output_type": "stream",
          "text": [
            "Help on built-in function bin in module builtins:\n",
            "\n",
            "bin(number, /)\n",
            "    Return the binary representation of an integer.\n",
            "    \n",
            "    >>> bin(2796202)\n",
            "    '0b1010101010101010101010'\n",
            "\n"
          ],
          "name": "stdout"
        }
      ]
    },
    {
      "cell_type": "code",
      "metadata": {
        "id": "P6Jv35CLL3Cz",
        "colab_type": "code",
        "colab": {
          "base_uri": "https://localhost:8080/",
          "height": 105
        },
        "outputId": "5209b503-cb59-4e5c-c874-bbd3d842dc8e"
      },
      "source": [
        "help(ord)"
      ],
      "execution_count": 1,
      "outputs": [
        {
          "output_type": "stream",
          "text": [
            "Help on built-in function ord in module builtins:\n",
            "\n",
            "ord(c, /)\n",
            "    Return the Unicode code point for a one-character string.\n",
            "\n"
          ],
          "name": "stdout"
        }
      ]
    },
    {
      "cell_type": "code",
      "metadata": {
        "id": "YYMZGBhO0M-G",
        "colab_type": "code",
        "colab": {
          "base_uri": "https://localhost:8080/",
          "height": 34
        },
        "outputId": "3e9a02ca-be03-46bd-adf0-bae0956baeba"
      },
      "source": [
        "ord('A')"
      ],
      "execution_count": 2,
      "outputs": [
        {
          "output_type": "execute_result",
          "data": {
            "text/plain": [
              "65"
            ]
          },
          "metadata": {
            "tags": []
          },
          "execution_count": 2
        }
      ]
    },
    {
      "cell_type": "code",
      "metadata": {
        "id": "7KB2132O0NPZ",
        "colab_type": "code",
        "colab": {
          "base_uri": "https://localhost:8080/",
          "height": 34
        },
        "outputId": "0c47a9ac-2861-4449-b772-53fec7638cf4"
      },
      "source": [
        "chr(65)"
      ],
      "execution_count": 3,
      "outputs": [
        {
          "output_type": "execute_result",
          "data": {
            "text/plain": [
              "'A'"
            ]
          },
          "metadata": {
            "tags": []
          },
          "execution_count": 3
        }
      ]
    },
    {
      "cell_type": "code",
      "metadata": {
        "id": "wNeT0RSk0SDF",
        "colab_type": "code",
        "colab": {
          "base_uri": "https://localhost:8080/",
          "height": 34
        },
        "outputId": "f0ccf505-534a-47ca-d150-08375c498594"
      },
      "source": [
        "bin(ord('A'))"
      ],
      "execution_count": 4,
      "outputs": [
        {
          "output_type": "execute_result",
          "data": {
            "text/plain": [
              "'0b1000001'"
            ]
          },
          "metadata": {
            "tags": []
          },
          "execution_count": 4
        }
      ]
    }
  ]
}