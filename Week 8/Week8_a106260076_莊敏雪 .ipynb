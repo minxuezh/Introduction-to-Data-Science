{
  "nbformat": 4,
  "nbformat_minor": 0,
  "metadata": {
    "colab": {
      "name": "Week8_a106260076_莊敏雪.ipynb",
      "provenance": []
    },
    "kernelspec": {
      "name": "python3",
      "display_name": "Python 3"
    }
  },
  "cells": [
    {
      "cell_type": "code",
      "metadata": {
        "id": "xSwDNG3ThOsD",
        "colab_type": "code",
        "colab": {
          "base_uri": "https://localhost:8080/",
          "height": 87
        },
        "outputId": "3b21cea3-06fd-4853-b042-b5ed188451c2"
      },
      "source": [
        "player_height = float(input(\"請輸入球員身高(公尺):\"))\n",
        "player_weight = float(input(\"請輸入球員體重(公斤):\"))\n",
        "player_bmi = player_weight / player_height**2\n",
        "bmi_label = None #None 沒有值\n",
        "if player_bmi > 30:\n",
        "  bmi_label = 'Obese'\n",
        "if player_bmi <= 30 and player_bmi > 25: #交集\n",
        "  bmi_label = 'Overweight'\n",
        "if player_bmi <= 25 and player_bmi > 18.5:\n",
        "  bmi_label = 'Normal weight'\n",
        "if player_bmi <= 18.5:\n",
        "  bmi_label = 'Underweight'\n",
        "print(player_bmi)\n",
        "print(bmi_label)"
      ],
      "execution_count": 1,
      "outputs": [
        {
          "output_type": "stream",
          "text": [
            "請輸入球員身高(公尺):1.7\n",
            "請輸入球員體重(公斤):52\n",
            "17.99307958477509\n",
            "Underweight\n"
          ],
          "name": "stdout"
        }
      ]
    },
    {
      "cell_type": "code",
      "metadata": {
        "id": "4BxBeQrnPuKc",
        "colab_type": "code",
        "colab": {
          "base_uri": "https://localhost:8080/",
          "height": 87
        },
        "outputId": "74dec152-fbce-46c4-ac73-96734acd68af"
      },
      "source": [
        "player_height = float(input(\"請輸入球員身高(公尺):\"))\n",
        "player_weight = float(input(\"請輸入球員體重(公斤):\"))\n",
        "player_bmi = player_weight / player_height**2\n",
        "bmi_label = None #None 沒有值 每次從新計算不被前面輸入影響\n",
        "if player_bmi > 30:\n",
        "  bmi_label = 'Obese'\n",
        "elif player_bmi > 25: \n",
        "  bmi_label = 'Overweight'\n",
        "elif player_bmi > 18.5:\n",
        "  bmi_label = 'Normal weight'\n",
        "else:\n",
        "  bmi_label = 'Underweight'\n",
        "print(player_bmi)\n",
        "print(bmi_label)"
      ],
      "execution_count": 2,
      "outputs": [
        {
          "output_type": "stream",
          "text": [
            "請輸入球員身高(公尺):1.7\n",
            "請輸入球員體重(公斤):52\n",
            "17.99307958477509\n",
            "Underweight\n"
          ],
          "name": "stdout"
        }
      ]
    },
    {
      "cell_type": "code",
      "metadata": {
        "id": "egvUO-60fw1U",
        "colab_type": "code",
        "colab": {
          "base_uri": "https://localhost:8080/",
          "height": 52
        },
        "outputId": "c748b85f-d8f3-451b-eb01-201d5af13876"
      },
      "source": [
        "# Fizz-Buzz\n",
        "# 以 input() 函數請使用者輸入一個正整數\n",
        "# 如果是 3 的倍數印出 \"Fizz\"\n",
        "# 如果是 5 的倍數印出 \"Buzz\"\n",
        "# 如果是 15 的倍數印出 \"Fizz Buzz\"\n",
        "# 其他情況印出該正整數即可\n",
        "user_int = int(input(\"請輸入一個正整數:\"))\n",
        "if user_int % 15 == 0:\n",
        "    print(\"Fizz Buzz\")\n",
        "elif user_int % 5 == 0:\n",
        "    print(\"Buzz\")\n",
        "elif user_int % 3 == 0:\n",
        "    print(\"Fizz\")\n",
        "else:\n",
        "    print(user_int)"
      ],
      "execution_count": 3,
      "outputs": [
        {
          "output_type": "stream",
          "text": [
            "請輸入一個正整數:16\n",
            "16\n"
          ],
          "name": "stdout"
        }
      ]
    },
    {
      "cell_type": "code",
      "metadata": {
        "id": "UfY9mKb2mFxW",
        "colab_type": "code",
        "colab": {
          "base_uri": "https://localhost:8080/",
          "height": 193
        },
        "outputId": "e119767b-4e10-4994-d837-aa26b11ac545"
      },
      "source": [
        "i = 2 # 開始\n",
        "while i <= 20: # 結束\n",
        "  print(i)\n",
        "  i += 2    # 間隔"
      ],
      "execution_count": 4,
      "outputs": [
        {
          "output_type": "stream",
          "text": [
            "2\n",
            "4\n",
            "6\n",
            "8\n",
            "10\n",
            "12\n",
            "14\n",
            "16\n",
            "18\n",
            "20\n"
          ],
          "name": "stdout"
        }
      ]
    },
    {
      "cell_type": "code",
      "metadata": {
        "id": "9-eXt-qlmI1f",
        "colab_type": "code",
        "colab": {
          "base_uri": "https://localhost:8080/",
          "height": 34
        },
        "outputId": "72f93e85-7c9c-40ce-c60a-8874caada204"
      },
      "source": [
        "# 計數\n",
        "i= 1\n",
        "counter = 0\n",
        "while i <= 10:\n",
        "  counter += 1\n",
        "  i += 1\n",
        "print(counter)"
      ],
      "execution_count": 5,
      "outputs": [
        {
          "output_type": "stream",
          "text": [
            "10\n"
          ],
          "name": "stdout"
        }
      ]
    },
    {
      "cell_type": "code",
      "metadata": {
        "id": "vzaBdhOwmLjY",
        "colab_type": "code",
        "colab": {
          "base_uri": "https://localhost:8080/",
          "height": 34
        },
        "outputId": "d1d160c2-5bf8-498c-85a4-25a7adde1eff"
      },
      "source": [
        "# 1-10有幾個偶數\n",
        "i= 1\n",
        "counter = 0\n",
        "while i <= 10:\n",
        "  if i % 2 == 0:\n",
        "    counter += 1\n",
        "  i += 1\n",
        "print(counter)"
      ],
      "execution_count": 6,
      "outputs": [
        {
          "output_type": "stream",
          "text": [
            "5\n"
          ],
          "name": "stdout"
        }
      ]
    },
    {
      "cell_type": "code",
      "metadata": {
        "id": "nRZeToU8mzz0",
        "colab_type": "code",
        "colab": {
          "base_uri": "https://localhost:8080/",
          "height": 34
        },
        "outputId": "3c47d55e-e266-4f10-caa8-b8d7e73a5062"
      },
      "source": [
        "# 加總\n",
        "i = 1\n",
        "summation = 0\n",
        "while i <= 100:\n",
        "    summation += i\n",
        "    i += 1\n",
        "print(summation)"
      ],
      "execution_count": 7,
      "outputs": [
        {
          "output_type": "stream",
          "text": [
            "5050\n"
          ],
          "name": "stdout"
        }
      ]
    },
    {
      "cell_type": "code",
      "metadata": {
        "id": "0CEt3DUmPNpx",
        "colab_type": "code",
        "colab": {
          "base_uri": "https://localhost:8080/",
          "height": 158
        },
        "outputId": "b4620c04-dc9a-4161-f508-cb8a099d2e42"
      },
      "source": [
        "# 隨堂練習:印出介於X到Y之間的奇數，包含x和y，如果他們是奇數的話\n",
        "x = int(input(\"請輸入起始的正整數:\"))\n",
        "y = int(input(\"請輸入終止的正整數:\"))\n",
        "i = x\n",
        "while i <= y:\n",
        "  if i % 2 == 1:\n",
        "   print(i)\n",
        "  i += 1"
      ],
      "execution_count": 8,
      "outputs": [
        {
          "output_type": "stream",
          "text": [
            "請輸入起始的正整數:55\n",
            "請輸入終止的正整數:66\n",
            "55\n",
            "57\n",
            "59\n",
            "61\n",
            "63\n",
            "65\n"
          ],
          "name": "stdout"
        }
      ]
    }
  ]
}