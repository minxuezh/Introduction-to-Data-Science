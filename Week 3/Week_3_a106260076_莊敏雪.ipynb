{
  "nbformat": 4,
  "nbformat_minor": 0,
  "metadata": {
    "colab": {
      "name": "Week 3-a106260076-莊敏雪.ipynb",
      "provenance": []
    },
    "kernelspec": {
      "name": "python3",
      "display_name": "Python 3"
    }
  },
  "cells": [
    {
      "cell_type": "code",
      "metadata": {
        "id": "YpkugAiJSZIg",
        "colab_type": "code",
        "colab": {}
      },
      "source": [
        "# 將電影的片長（以分鐘為單位)、評分、片名儲存為物件並印出"
      ],
      "execution_count": 0,
      "outputs": []
    },
    {
      "cell_type": "code",
      "metadata": {
        "id": "uA7sEpRa9CnN",
        "colab_type": "code",
        "colab": {
          "base_uri": "https://localhost:8080/",
          "height": 70
        },
        "outputId": "e6c05fdc-f24f-4057-f1dd-ab368ea2ca5f"
      },
      "source": [
        "movie_time = 181\n",
        "movie_rating = 8.5\n",
        "movie_title = \"Avengers: Endgame\"\n",
        "\n",
        "print(movie_time) \n",
        "print(movie_rating)\n",
        "print(movie_title)\n"
      ],
      "execution_count": 7,
      "outputs": [
        {
          "output_type": "stream",
          "text": [
            "181\n",
            "8.5\n",
            "Avengers: Endgame\n"
          ],
          "name": "stdout"
        }
      ]
    },
    {
      "cell_type": "code",
      "metadata": {
        "id": "e4tsBL1pT98k",
        "colab_type": "code",
        "colab": {}
      },
      "source": [
        "#使用type()函數將電影的片長（以分鐘為單位)、評分、片名這三個物件的類別印出"
      ],
      "execution_count": 0,
      "outputs": []
    },
    {
      "cell_type": "code",
      "metadata": {
        "id": "b5V4o5MXT-I6",
        "colab_type": "code",
        "colab": {
          "base_uri": "https://localhost:8080/",
          "height": 70
        },
        "outputId": "00064c26-af0a-46f3-b8d1-7a8db4d83703"
      },
      "source": [
        "print(type(movie_time))\n",
        "print(type(movie_rating))\n",
        "print(type(movie_title))"
      ],
      "execution_count": 9,
      "outputs": [
        {
          "output_type": "stream",
          "text": [
            "<class 'int'>\n",
            "<class 'float'>\n",
            "<class 'str'>\n"
          ],
          "name": "stdout"
        }
      ]
    }
  ]
}