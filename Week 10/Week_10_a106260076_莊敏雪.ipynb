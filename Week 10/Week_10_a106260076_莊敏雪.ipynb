{
  "nbformat": 4,
  "nbformat_minor": 0,
  "metadata": {
    "colab": {
      "name": "Week 10 _a106260076_莊敏雪.ipynb",
      "provenance": []
    },
    "kernelspec": {
      "name": "python3",
      "display_name": "Python 3"
    }
  },
  "cells": [
    {
      "cell_type": "markdown",
      "metadata": {
        "id": "1_8Dr_rXv3yG",
        "colab_type": "text"
      },
      "source": [
        "**隨堂練習:** 參考 cast 與 https://www.imdb.com/title/tt4154796/ 將飾演奇異博士（Doctor Strange）的演員用 indexing 方式選出來"
      ]
    },
    {
      "cell_type": "code",
      "metadata": {
        "id": "YJsoDNCe8E6p",
        "colab_type": "code",
        "colab": {
          "base_uri": "https://localhost:8080/",
          "height": 52
        },
        "outputId": "259ea0b5-1284-4de8-a15c-fe2215b8a23c"
      },
      "source": [
        "# 索引\n",
        "cast = ['Robert Downey Jr.', 'Chris Evans', 'Mark Ruffalo', 'Chris Hemsworth', 'Scarlett Johansson', 'Jeremy Renner', 'Don Cheadle', 'Paul Rudd', 'Benedict Cumberbatch', 'Chadwick Boseman', 'Brie Larson', 'Tom Holland', 'Karen Gillan', 'Zoe Saldana', 'Evangeline Lilly']\n",
        "print(cast[-7])\n",
        "print(cast[8])"
      ],
      "execution_count": 4,
      "outputs": [
        {
          "output_type": "stream",
          "text": [
            "Benedict Cumberbatch\n",
            "Benedict Cumberbatch\n"
          ],
          "name": "stdout"
        }
      ]
    },
    {
      "cell_type": "markdown",
      "metadata": {
        "id": "gq8UWNXExJMy",
        "colab_type": "text"
      },
      "source": [
        "**隨堂練習:** 參考 cast 與 https://www.imdb.com/title/tt4154796/ 將第一集復仇者聯盟的六位英雄選出來"
      ]
    },
    {
      "cell_type": "code",
      "metadata": {
        "id": "r7ZelJ9OxKSu",
        "colab_type": "code",
        "colab": {
          "base_uri": "https://localhost:8080/",
          "height": 72
        },
        "outputId": "11102299-2c66-4994-ccb7-d8c5f639523b"
      },
      "source": [
        "# 切割\n",
        "print(len(cast))\n",
        "print(cast[:6])"
      ],
      "execution_count": 5,
      "outputs": [
        {
          "output_type": "stream",
          "text": [
            "15\n",
            "['Robert Downey Jr.', 'Chris Evans', 'Mark Ruffalo', 'Chris Hemsworth', 'Scarlett Johansson', 'Jeremy Renner']\n"
          ],
          "name": "stdout"
        }
      ]
    },
    {
      "cell_type": "code",
      "metadata": {
        "id": "1PDJOV9D3ZKF",
        "colab_type": "code",
        "colab": {
          "base_uri": "https://localhost:8080/",
          "height": 72
        },
        "outputId": "72d229b8-773f-4ef5-e1a9-a161f18cba30"
      },
      "source": [
        "# covid-19 台灣每日新增確診人數\n",
        "import pandas as pd\n",
        "\n",
        "time_series_df = pd.read_csv(\"https://raw.githubusercontent.com/CSSEGISandData/COVID-19/master/csse_covid_19_data/csse_covid_19_time_series/time_series_covid19_confirmed_global.csv\")\n",
        "cumulative_confirmed = list(time_series_df[time_series_df['Country/Region'] == 'Taiwan*'].values.ravel()[4:].astype(int))\n",
        "cumulative_confirmed_lag = list(time_series_df[time_series_df['Country/Region'] == 'Taiwan*'].values.ravel()[4:].astype(int))\n",
        "print(cumulative_confirmed)\n",
        "print(cumulative_confirmed_lag)"
      ],
      "execution_count": 9,
      "outputs": [
        {
          "output_type": "stream",
          "text": [
            "[1, 1, 3, 3, 4, 5, 8, 8, 9, 10, 10, 10, 10, 11, 11, 16, 16, 17, 18, 18, 18, 18, 18, 18, 18, 20, 22, 22, 23, 24, 26, 26, 28, 30, 31, 32, 32, 34, 39, 40, 41, 42, 42, 44, 45, 45, 45, 45, 47, 48, 49, 50, 53, 59, 67, 77, 100, 108, 135, 153, 169, 195, 215, 235, 252, 267, 283, 298, 306, 322, 329, 339, 348, 355, 363, 373, 376, 379, 380, 382, 385, 388, 393, 393, 395, 395, 395, 398, 420, 422, 425, 426, 427, 428, 429, 429, 429, 429, 429, 429, 429, 432, 436, 438, 438, 439, 440, 440, 440]\n",
            "[1, 1, 3, 3, 4, 5, 8, 8, 9, 10, 10, 10, 10, 11, 11, 16, 16, 17, 18, 18, 18, 18, 18, 18, 18, 20, 22, 22, 23, 24, 26, 26, 28, 30, 31, 32, 32, 34, 39, 40, 41, 42, 42, 44, 45, 45, 45, 45, 47, 48, 49, 50, 53, 59, 67, 77, 100, 108, 135, 153, 169, 195, 215, 235, 252, 267, 283, 298, 306, 322, 329, 339, 348, 355, 363, 373, 376, 379, 380, 382, 385, 388, 393, 393, 395, 395, 395, 398, 420, 422, 425, 426, 427, 428, 429, 429, 429, 429, 429, 429, 429, 432, 436, 438, 438, 439, 440, 440, 440]\n"
          ],
          "name": "stdout"
        }
      ]
    },
    {
      "cell_type": "code",
      "metadata": {
        "id": "n-kAAHAN6dnu",
        "colab_type": "code",
        "colab": {
          "base_uri": "https://localhost:8080/",
          "height": 52
        },
        "outputId": "b56455e6-cf99-4997-e0cd-2a995805e3c3"
      },
      "source": [
        "print(len(cumulative_confirmed))\n",
        "print(cumulative_confirmed[-1])"
      ],
      "execution_count": 11,
      "outputs": [
        {
          "output_type": "stream",
          "text": [
            "109\n",
            "440\n"
          ],
          "name": "stdout"
        }
      ]
    },
    {
      "cell_type": "code",
      "metadata": {
        "id": "GOjtZnwj4_6n",
        "colab_type": "code",
        "colab": {
          "base_uri": "https://localhost:8080/",
          "height": 52
        },
        "outputId": "f127ac86-1f85-4d41-8c6b-eec7c3949729"
      },
      "source": [
        "cumulative_confirmed_lag.insert(0, 0)\n",
        "print(len(cumulative_confirmed_lag))\n",
        "print(cumulative_confirmed_lag[0])"
      ],
      "execution_count": 10,
      "outputs": [
        {
          "output_type": "stream",
          "text": [
            "110\n",
            "0\n"
          ],
          "name": "stdout"
        }
      ]
    },
    {
      "cell_type": "code",
      "metadata": {
        "id": "zW2VWOW66sTW",
        "colab_type": "code",
        "colab": {
          "base_uri": "https://localhost:8080/",
          "height": 52
        },
        "outputId": "b521058b-45e8-4ddd-a429-05bca00ed034"
      },
      "source": [
        "cumulative_confirmed_lag.pop()\n",
        "print(len(cumulative_confirmed_lag))\n",
        "print(cumulative_confirmed_lag[-1])"
      ],
      "execution_count": 12,
      "outputs": [
        {
          "output_type": "stream",
          "text": [
            "109\n",
            "440\n"
          ],
          "name": "stdout"
        }
      ]
    },
    {
      "cell_type": "code",
      "metadata": {
        "id": "VVKxLNMt6sfy",
        "colab_type": "code",
        "colab": {
          "base_uri": "https://localhost:8080/",
          "height": 72
        },
        "outputId": "ffb1b37c-a631-456e-f704-4d2aa1a119ae"
      },
      "source": [
        "print(cumulative_confirmed)\n",
        "print(cumulative_confirmed_lag)"
      ],
      "execution_count": 13,
      "outputs": [
        {
          "output_type": "stream",
          "text": [
            "[1, 1, 3, 3, 4, 5, 8, 8, 9, 10, 10, 10, 10, 11, 11, 16, 16, 17, 18, 18, 18, 18, 18, 18, 18, 20, 22, 22, 23, 24, 26, 26, 28, 30, 31, 32, 32, 34, 39, 40, 41, 42, 42, 44, 45, 45, 45, 45, 47, 48, 49, 50, 53, 59, 67, 77, 100, 108, 135, 153, 169, 195, 215, 235, 252, 267, 283, 298, 306, 322, 329, 339, 348, 355, 363, 373, 376, 379, 380, 382, 385, 388, 393, 393, 395, 395, 395, 398, 420, 422, 425, 426, 427, 428, 429, 429, 429, 429, 429, 429, 429, 432, 436, 438, 438, 439, 440, 440, 440]\n",
            "[0, 1, 1, 3, 3, 4, 5, 8, 8, 9, 10, 10, 10, 10, 11, 11, 16, 16, 17, 18, 18, 18, 18, 18, 18, 18, 20, 22, 22, 23, 24, 26, 26, 28, 30, 31, 32, 32, 34, 39, 40, 41, 42, 42, 44, 45, 45, 45, 45, 47, 48, 49, 50, 53, 59, 67, 77, 100, 108, 135, 153, 169, 195, 215, 235, 252, 267, 283, 298, 306, 322, 329, 339, 348, 355, 363, 373, 376, 379, 380, 382, 385, 388, 393, 393, 395, 395, 395, 398, 420, 422, 425, 426, 427, 428, 429, 429, 429, 429, 429, 429, 429, 432, 436, 438, 438, 439, 440, 440]\n"
          ],
          "name": "stdout"
        }
      ]
    },
    {
      "cell_type": "code",
      "metadata": {
        "id": "xdsngOHl8FQb",
        "colab_type": "code",
        "colab": {
          "base_uri": "https://localhost:8080/",
          "height": 1000
        },
        "outputId": "70f4a5a1-a989-4620-d196-397cb69a32f9"
      },
      "source": [
        "daily_increase = []\n",
        "i = 0\n",
        "while i < 109:\n",
        "    dayn_increase = cumulative_confirmed[i] - cumulative_confirmed_lag[i]\n",
        "    print(\"Day {}: 每日新增確診人數 {}\".format(i, dayn_increase))\n",
        "    daily_increase.append(dayn_increase)\n",
        "    i += 1"
      ],
      "execution_count": 17,
      "outputs": [
        {
          "output_type": "stream",
          "text": [
            "Day 0: 每日新增確診人數 1\n",
            "Day 1: 每日新增確診人數 0\n",
            "Day 2: 每日新增確診人數 2\n",
            "Day 3: 每日新增確診人數 0\n",
            "Day 4: 每日新增確診人數 1\n",
            "Day 5: 每日新增確診人數 1\n",
            "Day 6: 每日新增確診人數 3\n",
            "Day 7: 每日新增確診人數 0\n",
            "Day 8: 每日新增確診人數 1\n",
            "Day 9: 每日新增確診人數 1\n",
            "Day 10: 每日新增確診人數 0\n",
            "Day 11: 每日新增確診人數 0\n",
            "Day 12: 每日新增確診人數 0\n",
            "Day 13: 每日新增確診人數 1\n",
            "Day 14: 每日新增確診人數 0\n",
            "Day 15: 每日新增確診人數 5\n",
            "Day 16: 每日新增確診人數 0\n",
            "Day 17: 每日新增確診人數 1\n",
            "Day 18: 每日新增確診人數 1\n",
            "Day 19: 每日新增確診人數 0\n",
            "Day 20: 每日新增確診人數 0\n",
            "Day 21: 每日新增確診人數 0\n",
            "Day 22: 每日新增確診人數 0\n",
            "Day 23: 每日新增確診人數 0\n",
            "Day 24: 每日新增確診人數 0\n",
            "Day 25: 每日新增確診人數 2\n",
            "Day 26: 每日新增確診人數 2\n",
            "Day 27: 每日新增確診人數 0\n",
            "Day 28: 每日新增確診人數 1\n",
            "Day 29: 每日新增確診人數 1\n",
            "Day 30: 每日新增確診人數 2\n",
            "Day 31: 每日新增確診人數 0\n",
            "Day 32: 每日新增確診人數 2\n",
            "Day 33: 每日新增確診人數 2\n",
            "Day 34: 每日新增確診人數 1\n",
            "Day 35: 每日新增確診人數 1\n",
            "Day 36: 每日新增確診人數 0\n",
            "Day 37: 每日新增確診人數 2\n",
            "Day 38: 每日新增確診人數 5\n",
            "Day 39: 每日新增確診人數 1\n",
            "Day 40: 每日新增確診人數 1\n",
            "Day 41: 每日新增確診人數 1\n",
            "Day 42: 每日新增確診人數 0\n",
            "Day 43: 每日新增確診人數 2\n",
            "Day 44: 每日新增確診人數 1\n",
            "Day 45: 每日新增確診人數 0\n",
            "Day 46: 每日新增確診人數 0\n",
            "Day 47: 每日新增確診人數 0\n",
            "Day 48: 每日新增確診人數 2\n",
            "Day 49: 每日新增確診人數 1\n",
            "Day 50: 每日新增確診人數 1\n",
            "Day 51: 每日新增確診人數 1\n",
            "Day 52: 每日新增確診人數 3\n",
            "Day 53: 每日新增確診人數 6\n",
            "Day 54: 每日新增確診人數 8\n",
            "Day 55: 每日新增確診人數 10\n",
            "Day 56: 每日新增確診人數 23\n",
            "Day 57: 每日新增確診人數 8\n",
            "Day 58: 每日新增確診人數 27\n",
            "Day 59: 每日新增確診人數 18\n",
            "Day 60: 每日新增確診人數 16\n",
            "Day 61: 每日新增確診人數 26\n",
            "Day 62: 每日新增確診人數 20\n",
            "Day 63: 每日新增確診人數 20\n",
            "Day 64: 每日新增確診人數 17\n",
            "Day 65: 每日新增確診人數 15\n",
            "Day 66: 每日新增確診人數 16\n",
            "Day 67: 每日新增確診人數 15\n",
            "Day 68: 每日新增確診人數 8\n",
            "Day 69: 每日新增確診人數 16\n",
            "Day 70: 每日新增確診人數 7\n",
            "Day 71: 每日新增確診人數 10\n",
            "Day 72: 每日新增確診人數 9\n",
            "Day 73: 每日新增確診人數 7\n",
            "Day 74: 每日新增確診人數 8\n",
            "Day 75: 每日新增確診人數 10\n",
            "Day 76: 每日新增確診人數 3\n",
            "Day 77: 每日新增確診人數 3\n",
            "Day 78: 每日新增確診人數 1\n",
            "Day 79: 每日新增確診人數 2\n",
            "Day 80: 每日新增確診人數 3\n",
            "Day 81: 每日新增確診人數 3\n",
            "Day 82: 每日新增確診人數 5\n",
            "Day 83: 每日新增確診人數 0\n",
            "Day 84: 每日新增確診人數 2\n",
            "Day 85: 每日新增確診人數 0\n",
            "Day 86: 每日新增確診人數 0\n",
            "Day 87: 每日新增確診人數 3\n",
            "Day 88: 每日新增確診人數 22\n",
            "Day 89: 每日新增確診人數 2\n",
            "Day 90: 每日新增確診人數 3\n",
            "Day 91: 每日新增確診人數 1\n",
            "Day 92: 每日新增確診人數 1\n",
            "Day 93: 每日新增確診人數 1\n",
            "Day 94: 每日新增確診人數 1\n",
            "Day 95: 每日新增確診人數 0\n",
            "Day 96: 每日新增確診人數 0\n",
            "Day 97: 每日新增確診人數 0\n",
            "Day 98: 每日新增確診人數 0\n",
            "Day 99: 每日新增確診人數 0\n",
            "Day 100: 每日新增確診人數 0\n",
            "Day 101: 每日新增確診人數 3\n",
            "Day 102: 每日新增確診人數 4\n",
            "Day 103: 每日新增確診人數 2\n",
            "Day 104: 每日新增確診人數 0\n",
            "Day 105: 每日新增確診人數 1\n",
            "Day 106: 每日新增確診人數 1\n",
            "Day 107: 每日新增確診人數 0\n",
            "Day 108: 每日新增確診人數 0\n"
          ],
          "name": "stdout"
        }
      ]
    }
  ]
}