{
  "nbformat": 4,
  "nbformat_minor": 0,
  "metadata": {
    "colab": {
      "name": "Week 12_a106260076_莊敏雪.ipynb",
      "provenance": []
    },
    "kernelspec": {
      "name": "python3",
      "display_name": "Python 3"
    }
  },
  "cells": [
    {
      "cell_type": "markdown",
      "metadata": {
        "id": "erLEUHHT44_H",
        "colab_type": "text"
      },
      "source": [
        "x 到 y 之間的奇數有幾個?加總為何?"
      ]
    },
    {
      "cell_type": "code",
      "metadata": {
        "id": "9DZG8gak_JmS",
        "colab_type": "code",
        "colab": {
          "base_uri": "https://localhost:8080/",
          "height": 70
        },
        "outputId": "1d0153eb-ec30-49d5-b668-fb00b57c75c5"
      },
      "source": [
        "x = int(input(\"請輸入起始的正整數:\"))\n",
        "y = int(input(\"請輸入終止的正整數:\"))\n",
        "odds = []\n",
        "for i in range(x, y+1):\n",
        "  mod = i % 2\n",
        "  if mod == 1:\n",
        "    odds.append(i)\n",
        "print(odds)\n",
        "    "
      ],
      "execution_count": 1,
      "outputs": [
        {
          "output_type": "stream",
          "text": [
            "請輸入起始的正整數:13\n",
            "請輸入終止的正整數:59\n",
            "[13, 15, 17, 19, 21, 23, 25, 27, 29, 31, 33, 35, 37, 39, 41, 43, 45, 47, 49, 51, 53, 55, 57, 59]\n"
          ],
          "name": "stdout"
        }
      ]
    },
    {
      "cell_type": "code",
      "metadata": {
        "id": "6JzWobTK4Zsp",
        "colab_type": "code",
        "colab": {
          "base_uri": "https://localhost:8080/",
          "height": 52
        },
        "outputId": "33791497-bc35-4f11-c5fc-4259acbd2dad"
      },
      "source": [
        "print(len(odds)) # 記數\n",
        "print(sum(odds)) # 加總"
      ],
      "execution_count": 2,
      "outputs": [
        {
          "output_type": "stream",
          "text": [
            "24\n",
            "864\n"
          ],
          "name": "stdout"
        }
      ]
    },
    {
      "cell_type": "code",
      "metadata": {
        "id": "i-SQ1BkR4Zwc",
        "colab_type": "code",
        "colab": {
          "base_uri": "https://localhost:8080/",
          "height": 70
        },
        "outputId": "e01ab99f-1d50-40a8-838d-774317909b08"
      },
      "source": [
        "# 判斷質數\n",
        "x = int(input(\"請輸入一個正整數:\"))\n",
        "divisors = []\n",
        "for i in range(1, x+1):\n",
        "  if x % i == 0:\n",
        "    divisors.append(i)\n",
        "print(divisors)\n",
        "n_divisors = len(divisors)\n",
        "if n_divisors == 2:\n",
        "  print(\"{}是質數\".format(x))\n",
        "else:\n",
        "  print(\"{}不是質數\".format(x))"
      ],
      "execution_count": 3,
      "outputs": [
        {
          "output_type": "stream",
          "text": [
            "請輸入一個正整數:1\n",
            "[1]\n",
            "1不是質數\n"
          ],
          "name": "stdout"
        }
      ]
    },
    {
      "cell_type": "code",
      "metadata": {
        "id": "pGIX4HvIwQJR",
        "colab_type": "code",
        "colab": {
          "base_uri": "https://localhost:8080/",
          "height": 160
        },
        "outputId": "f56cd704-6263-40a9-fb49-971a39815c6d"
      },
      "source": [
        "# random 產生 1 個隨機數\n",
        "import random\n",
        "\n",
        "random.randint(1, 1000)\n",
        "# random 產生 100 個隨機數\n",
        "random_integers = []\n",
        "for i in range(100):\n",
        "    rand_int = random.randint(1, 1000)\n",
        "    random_integers.append(rand_int)\n",
        "print(random_integers)\n",
        "print(len(random_integers))\n",
        "# 找出第一大與第一小的數字\n",
        "print(max(random_integers))\n",
        "print(min(random_integers))\n",
        "# 找出第二大與第二小的數字\n",
        "rand_int_unique = set(random_integers)\n",
        "rand_int_unique_list = list(rand_int_unique)\n",
        "print(rand_int_unique_list)\n",
        "rand_int_unique_list.sort()\n",
        "print(rand_int_unique_list[1])  # second min\n",
        "print(rand_int_unique_list[-2]) # secomd max"
      ],
      "execution_count": 4,
      "outputs": [
        {
          "output_type": "stream",
          "text": [
            "[898, 764, 27, 160, 517, 303, 98, 798, 96, 663, 702, 267, 573, 751, 375, 736, 358, 530, 846, 158, 885, 892, 416, 268, 537, 291, 209, 820, 949, 233, 434, 917, 524, 570, 929, 930, 238, 576, 164, 288, 531, 888, 489, 958, 476, 836, 188, 107, 227, 3, 405, 291, 883, 890, 809, 944, 706, 717, 976, 136, 458, 282, 812, 675, 674, 579, 62, 372, 288, 819, 323, 44, 896, 852, 92, 469, 751, 873, 947, 200, 558, 595, 133, 641, 144, 347, 674, 642, 398, 968, 991, 919, 499, 769, 447, 54, 731, 254, 938, 195]\n",
            "100\n",
            "991\n",
            "3\n",
            "[3, 517, 524, 530, 531, 537, 27, 44, 558, 54, 570, 573, 62, 576, 579, 595, 92, 96, 98, 107, 641, 642, 133, 136, 144, 663, 158, 160, 674, 675, 164, 188, 702, 706, 195, 200, 717, 209, 731, 736, 227, 233, 238, 751, 764, 254, 769, 267, 268, 282, 798, 288, 291, 809, 812, 303, 819, 820, 323, 836, 846, 852, 347, 358, 873, 883, 372, 885, 375, 888, 890, 892, 896, 898, 398, 917, 405, 919, 416, 929, 930, 938, 944, 434, 947, 949, 958, 447, 968, 458, 976, 469, 476, 991, 489, 499]\n",
            "27\n",
            "976\n"
          ],
          "name": "stdout"
        }
      ]
    },
    {
      "cell_type": "code",
      "metadata": {
        "id": "JA3ue-eTwQGu",
        "colab_type": "code",
        "colab": {
          "base_uri": "https://localhost:8080/",
          "height": 105
        },
        "outputId": "6af9acf1-bdd4-4875-fec1-78963edcd035"
      },
      "source": [
        "weekdays = ['Monday', 'Tuesday', 'Wednesday', 'Thursday', 'Friday']\n",
        "for i, wd in enumerate(weekdays):\n",
        "  print(\"{}:星期{}\".format(wd, i+1))"
      ],
      "execution_count": 5,
      "outputs": [
        {
          "output_type": "stream",
          "text": [
            "Monday:星期1\n",
            "Tuesday:星期2\n",
            "Wednesday:星期3\n",
            "Thursday:星期4\n",
            "Friday:星期5\n"
          ],
          "name": "stdout"
        }
      ]
    },
    {
      "cell_type": "code",
      "metadata": {
        "id": "Ri89zMRPwQBZ",
        "colab_type": "code",
        "colab": {
          "base_uri": "https://localhost:8080/",
          "height": 87
        },
        "outputId": "10164f46-8429-4e69-df9d-2e146b445a39"
      },
      "source": [
        "avengers = [\"The Avengers\", \"Avengers: Age of Ultron\", \"Avengers: Infinity War\", \"Avengers: Endgame\"]\n",
        "for idx, movie in enumerate(avengers):\n",
        "  print(\"第 {} 部上映的復仇者聯盟電影:{}\".format(idx+1, movie))"
      ],
      "execution_count": 6,
      "outputs": [
        {
          "output_type": "stream",
          "text": [
            "第 1 部上映的復仇者聯盟電影:The Avengers\n",
            "第 2 部上映的復仇者聯盟電影:Avengers: Age of Ultron\n",
            "第 3 部上映的復仇者聯盟電影:Avengers: Infinity War\n",
            "第 4 部上映的復仇者聯盟電影:Avengers: Endgame\n"
          ],
          "name": "stdout"
        }
      ]
    },
    {
      "cell_type": "code",
      "metadata": {
        "id": "97R1EQOVwP4D",
        "colab_type": "code",
        "colab": {
          "base_uri": "https://localhost:8080/",
          "height": 87
        },
        "outputId": "a689a2d8-fb67-47a7-e303-93250625c979"
      },
      "source": [
        "years = [2012, 2015, 2018, 2019]\n",
        "for year, movie in zip(years, avengers):\n",
        "  print(\"{}上映的年份是{}\".format(movie, year))"
      ],
      "execution_count": 8,
      "outputs": [
        {
          "output_type": "stream",
          "text": [
            "The Avengers上映的年份是2012\n",
            "Avengers: Age of Ultron上映的年份是2015\n",
            "Avengers: Infinity War上映的年份是2018\n",
            "Avengers: Endgame上映的年份是2019\n"
          ],
          "name": "stdout"
        }
      ]
    }
  ]
}