{
  "nbformat": 4,
  "nbformat_minor": 0,
  "metadata": {
    "colab": {
      "name": "Week7_a106260076_莊敏雪.ipynb",
      "provenance": []
    },
    "kernelspec": {
      "name": "python3",
      "display_name": "Python 3"
    }
  },
  "cells": [
    {
      "cell_type": "code",
      "metadata": {
        "id": "fU0Tw2_IkJo3",
        "colab_type": "code",
        "colab": {
          "base_uri": "https://localhost:8080/",
          "height": 70
        },
        "outputId": "0a75ae0b-fba0-4b71-b41e-f805dcc131ca"
      },
      "source": [
        "# 隨堂練習:月薪超過4萬或存款超過50萬就發信用卡\n",
        "monthly_income = input('請輸入月薪:')\n",
        "saving_account = input('請輸入存款:')\n",
        "monthly_income = int(monthly_income)\n",
        "saving_account = int(saving_account )\n",
        "# 條件判斷(begin)\n",
        "if monthly_income > 40000:\n",
        "  ans = \"發信用卡\"\n",
        "if saving_account > 500000:\n",
        "  ans = \"發信用卡\"\n",
        "# 條件判斷(end)\n",
        "print(ans)"
      ],
      "execution_count": 4,
      "outputs": [
        {
          "output_type": "stream",
          "text": [
            "請輸入月薪:39999\n",
            "請輸入存款:500001\n",
            "發信用卡\n"
          ],
          "name": "stdout"
        }
      ]
    },
    {
      "cell_type": "code",
      "metadata": {
        "id": "TtjU9cr_k5_J",
        "colab_type": "code",
        "colab": {
          "base_uri": "https://localhost:8080/",
          "height": 70
        },
        "outputId": "0fabdd17-927c-4594-c16b-5d540b770ae8"
      },
      "source": [
        "# 隨堂練習:月薪超過4萬或存款超過50萬就發信用卡\n",
        "monthly_income = input('請輸入月薪:')\n",
        "saving_account = input('請輸入存款:')\n",
        "monthly_income = int(monthly_income)\n",
        "saving_account = int(saving_account )\n",
        "# 條件判斷(begin)\n",
        "if monthly_income > 40000 or saving_account > 500000:\n",
        "  ans = \"發信用卡\"\n",
        "# 條件判斷(end)\n",
        "print(ans)"
      ],
      "execution_count": 5,
      "outputs": [
        {
          "output_type": "stream",
          "text": [
            "請輸入月薪:40001\n",
            "請輸入存款:499999\n",
            "發信用卡\n"
          ],
          "name": "stdout"
        }
      ]
    },
    {
      "cell_type": "code",
      "metadata": {
        "id": "JMIr67N9ld1I",
        "colab_type": "code",
        "colab": {
          "base_uri": "https://localhost:8080/",
          "height": 70
        },
        "outputId": "6118f343-95b9-4e16-d349-8a1d35aaf15d"
      },
      "source": [
        "movie_title = input('請輸入電影的名稱:')\n",
        "movie_rating = input('請輸入電影的評等:')\n",
        "movie_rating = float(movie_rating)\n",
        "\n",
        "if movie_rating > 7:\n",
        "  print(\"{}的評等為{}分，值得去看!\".format(movie_title, movie_rating))\n",
        "else:\n",
        "  print(\"{}的評等為{}分不值得去看，浪費時間!\".format(movie_title, movie_rating))"
      ],
      "execution_count": 7,
      "outputs": [
        {
          "output_type": "stream",
          "text": [
            "請輸入電影的名稱:陽光普照\n",
            "請輸入電影的評等:7.7\n",
            "陽光普照的評等為7.7分，值得去看!\n"
          ],
          "name": "stdout"
        }
      ]
    },
    {
      "cell_type": "code",
      "metadata": {
        "id": "Vr0Ypl-rkI-r",
        "colab_type": "code",
        "colab": {
          "base_uri": "https://localhost:8080/",
          "height": 52
        },
        "outputId": "9c4142ec-be1e-4110-bd96-5a29bf3c1b16"
      },
      "source": [
        "#隨堂練習：判斷奇數偶數\n",
        "## 請輸入一個正整數：5566 ## 5566 是偶數 \n",
        "user_int = input(\"請輸入一個正整數:\")\n",
        "user_int = int(user_int)\n",
        "if user_int % 2 == 0:\n",
        "  ans = \"偶數\"\n",
        "else:\n",
        "  ans = \"奇數\"\n",
        "print(ans)"
      ],
      "execution_count": 3,
      "outputs": [
        {
          "output_type": "stream",
          "text": [
            "請輸入一個正整數:5566\n",
            "偶數\n"
          ],
          "name": "stdout"
        }
      ]
    },
    {
      "cell_type": "code",
      "metadata": {
        "id": "wB6_iz7nmHV5",
        "colab_type": "code",
        "colab": {
          "base_uri": "https://localhost:8080/",
          "height": 52
        },
        "outputId": "406e26fa-464a-45aa-f0f1-ccd5b69bcb5f"
      },
      "source": [
        "# 隨堂練習：依身分證字號尾數決定星期幾可以購買口罩 \n",
        "## 奇數：星期一三五日領 \n",
        "## 偶數：星期二四六日領\n",
        "id_last_digit = input(\"請輸入您身分證字號的尾數:\")\n",
        "id_last_digit = int(id_last_digit)\n",
        "if id_last_digit % 2 == 0:\n",
        "  ans = \"星期二四六日領\"\n",
        "else:\n",
        "  ans = \"星期一三五日領\"\n",
        "print(ans)"
      ],
      "execution_count": 8,
      "outputs": [
        {
          "output_type": "stream",
          "text": [
            "請輸入您身分證字號的尾數:0\n",
            "星期二四六日領\n"
          ],
          "name": "stdout"
        }
      ]
    },
    {
      "cell_type": "code",
      "metadata": {
        "id": "zyQ6gzxemTNr",
        "colab_type": "code",
        "colab": {
          "base_uri": "https://localhost:8080/",
          "height": 52
        },
        "outputId": "bdadeaea-8d17-41c1-e77c-27e1d96a51c5"
      },
      "source": [
        "# 隨堂練習：依身分證字號尾數決定星期幾可以購買口罩 \n",
        "## 尾數自己抓\n",
        "## 奇數：星期一三五日領 \n",
        "id_number = input(\"請輸入您身分證字號:\")\n",
        "id_last_digit = id_number[-1]   # 自己抓尾數[]\n",
        "id_last_digit = int(id_last_digit)\n",
        "if id_last_digit % 2 == 0:\n",
        "  ans = \"星期二四六日領\"\n",
        "else:\n",
        "  ans = \"星期一三五日領\"\n",
        "print(ans)"
      ],
      "execution_count": 10,
      "outputs": [
        {
          "output_type": "stream",
          "text": [
            "請輸入您身分證字號:A123456789\n",
            "星期一三五日領\n"
          ],
          "name": "stdout"
        }
      ]
    },
    {
      "cell_type": "code",
      "metadata": {
        "id": "-p0qNJVDmekV",
        "colab_type": "code",
        "colab": {
          "base_uri": "https://localhost:8080/",
          "height": 52
        },
        "outputId": "d8e63b55-4d60-4ce3-89c6-6653e345155a"
      },
      "source": [
        "# 身分證字號性別判斷 \n",
        "id_number = input(\"請輸入身分證字號：\")\n",
        "id_second_digit = id_number[1]\n",
        "if id_second_digit == '1':\n",
        "    gender = \"Male\"\n",
        "else:\n",
        "    gender = \"Female\"\n",
        "print(gender)"
      ],
      "execution_count": 11,
      "outputs": [
        {
          "output_type": "stream",
          "text": [
            "請輸入身分證字號：A123456789\n",
            "Male\n"
          ],
          "name": "stdout"
        }
      ]
    },
    {
      "cell_type": "code",
      "metadata": {
        "id": "PHMOR1BHmpRt",
        "colab_type": "code",
        "colab": {
          "base_uri": "https://localhost:8080/",
          "height": 70
        },
        "outputId": "9164540c-70e1-438e-b4e9-049226bb1473"
      },
      "source": [
        "movie_title = input(\"請輸入電影名稱：\")\n",
        "movie_rating = input(\"請輸入電影評分：\")\n",
        "movie_rating = float(movie_rating)\n",
        "\n",
        "if movie_rating > 7:\n",
        "    print(\"去電影院看{}\".format(movie_title))\n",
        "elif movie_rating > 6:\n",
        "    print(\"在家裡看{}\".format(movie_title))\n",
        "else:\n",
        "    print(\"不要看{}\".format(movie_title))"
      ],
      "execution_count": 12,
      "outputs": [
        {
          "output_type": "stream",
          "text": [
            "請輸入電影名稱：環大西洋\n",
            "請輸入電影評分：1.6\n",
            "不要看環大西洋\n"
          ],
          "name": "stdout"
        }
      ]
    },
    {
      "cell_type": "code",
      "metadata": {
        "id": "voGURcSDm5YC",
        "colab_type": "code",
        "colab": {
          "base_uri": "https://localhost:8080/",
          "height": 70
        },
        "outputId": "3c5b89cf-85d8-41c4-f203-6eadd29be444"
      },
      "source": [
        "# 隨堂練習：判斷 BMI 的類別標籤\n",
        "## 請輸入身高（公分）：200 \n",
        "## 請輸入體重（公斤）：80 \n",
        "## 身高 200.0 公分、體重 80.0 公斤，是 Normal weight \n",
        "input_height = float(input(\"請輸入身高（公分）：\"))\n",
        "input_weight = float(input(\"請輸入體重（公斤）：\"))\n",
        "bmi = input_weight / (input_height*0.01)**2\n",
        "if bmi > 30:\n",
        "    label = \"Obese\"\n",
        "elif bmi > 25:\n",
        "    label = \"Overweight\"\n",
        "elif bmi > 18.5:\n",
        "    label = \"Normal weight\"\n",
        "elif bmi <= 18.5:\n",
        "    label = \"Underweight\"\n",
        "print(label)"
      ],
      "execution_count": 13,
      "outputs": [
        {
          "output_type": "stream",
          "text": [
            "請輸入身高（公分）：200\n",
            "請輸入體重（公斤）：80\n",
            "Normal weight\n"
          ],
          "name": "stdout"
        }
      ]
    }
  ]
}